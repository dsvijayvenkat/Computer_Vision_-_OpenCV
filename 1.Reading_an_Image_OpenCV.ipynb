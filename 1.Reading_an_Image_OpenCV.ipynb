{
 "cells": [
  {
   "cell_type": "markdown",
   "id": "cb2c04c3",
   "metadata": {},
   "source": [
    "## Reading_an_Image_in_OpenCV"
   ]
  },
  {
   "cell_type": "markdown",
   "id": "efb21f4e",
   "metadata": {},
   "source": [
    "### Reading an image by Specific Path"
   ]
  },
  {
   "cell_type": "code",
   "execution_count": 1,
   "id": "81041501",
   "metadata": {},
   "outputs": [],
   "source": [
    "# Importing Required Libraries\n",
    "\n",
    "import cv2\n",
    "\n",
    "# define a class called ImageReader\n",
    "class ImageReader:\n",
    "    def __init__(self, filename):\n",
    "        self.filename = filename\n",
    "        \n",
    "    def read_image(self):\n",
    "        try:\n",
    "            img = cv2.imread(self.filename)\n",
    "            if img is None:\n",
    "                raise Exception(\"Error: Unable to read image file\")\n",
    "        except Exception as e:\n",
    "            print(str(e))\n",
    "        else:\n",
    "            return img"
   ]
  },
  {
   "cell_type": "code",
   "execution_count": 2,
   "id": "cbef9ac2",
   "metadata": {},
   "outputs": [],
   "source": [
    "# create an instance of the ImageReader\n",
    "reader = ImageReader(r\"C:\\PYTHON\\AI_ML\\OpenCV\\Computer_vision.jpeg\")\n",
    "# call the read_image() method\n",
    "img = reader.read_image()\n",
    "if img is not None:\n",
    "    # to show an image\n",
    "    cv2.imshow(\"Image\", img)\n",
    "    # to dispaly upto defined time\n",
    "    cv2.waitKey(0)\n",
    "    # to close the open window\n",
    "    cv2.destroyAllWindows()"
   ]
  },
  {
   "cell_type": "markdown",
   "id": "2538ae85",
   "metadata": {},
   "source": [
    "After executing this code seperate window will be open with an image which has given in the path."
   ]
  },
  {
   "cell_type": "markdown",
   "id": "39edb96c",
   "metadata": {},
   "source": [
    "### Reading an Image by allow the user to enter a link "
   ]
  },
  {
   "cell_type": "code",
   "execution_count": 3,
   "id": "331fcb74",
   "metadata": {},
   "outputs": [],
   "source": [
    "# # Importing Required Libraries\n",
    "import cv2\n",
    "import urllib.request\n",
    "import numpy as np\n",
    "\n",
    "# define a class called ImageReader\n",
    "class ImageReader:\n",
    "    def __init__(self, url):\n",
    "        self.url = url\n",
    "        \n",
    "    def read_image(self):\n",
    "        try:\n",
    "            resp = urllib.request.urlopen(self.url)\n",
    "            img = np.asarray(bytearray(resp.read()), dtype=\"uint8\")\n",
    "            img = cv2.imdecode(img, cv2.IMREAD_COLOR)\n",
    "            if img is None:\n",
    "                raise Exception(\"Error: Unable to read image file\")\n",
    "        except Exception as e:\n",
    "            print(str(e))\n",
    "        else:\n",
    "            return img"
   ]
  },
  {
   "cell_type": "code",
   "execution_count": 4,
   "id": "199f3583",
   "metadata": {},
   "outputs": [
    {
     "name": "stdout",
     "output_type": "stream",
     "text": [
      "Enter the URL of the image file: https://codesrevolvewordpress.s3.us-west-2.amazonaws.com/revolveai/2022/04/15110814/computer-vision-applications.png\n"
     ]
    }
   ],
   "source": [
    "url = input(\"Enter the URL of the image file: \")\n",
    "reader = ImageReader(url)\n",
    "img = reader.read_image()\n",
    "if img is not None:\n",
    "    cv2.imshow(\"Image\", img)\n",
    "    cv2.waitKey(0)\n",
    "    cv2.destroyAllWindows()"
   ]
  },
  {
   "cell_type": "markdown",
   "id": "e15a1554",
   "metadata": {},
   "source": [
    "After Executing above code It will ask you to enter an url link to diaplay an image."
   ]
  },
  {
   "cell_type": "code",
   "execution_count": null,
   "id": "9dafa64a",
   "metadata": {},
   "outputs": [],
   "source": []
  }
 ],
 "metadata": {
  "kernelspec": {
   "display_name": "Python 3 (ipykernel)",
   "language": "python",
   "name": "python3"
  },
  "language_info": {
   "codemirror_mode": {
    "name": "ipython",
    "version": 3
   },
   "file_extension": ".py",
   "mimetype": "text/x-python",
   "name": "python",
   "nbconvert_exporter": "python",
   "pygments_lexer": "ipython3",
   "version": "3.8.16"
  }
 },
 "nbformat": 4,
 "nbformat_minor": 5
}
